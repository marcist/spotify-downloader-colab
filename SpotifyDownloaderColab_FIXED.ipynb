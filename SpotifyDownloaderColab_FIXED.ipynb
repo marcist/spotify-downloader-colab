{
 "cells": [
  {
   "cell_type": "code",
   "execution_count": 1,
   "metadata": {
    "colab": {
     "base_uri": "https://localhost:8080/",
     "height": 612,
     "referenced_widgets": [
      "703e56855c1347c2a8c55276456fba49",
      "7d1221d25f6c44af9450259ec0a82734",
      "04da80d8d8f548019dccc75cfc17c4db",
      "66a05e68620844f4b6e99abb2a595984",
      "f9cf491120264985b0edd74266046bb3",
      "141a6610b909460ab6977930970e6dc9",
      "b138dbf257364845a630501368680ed5",
      "ca74bc85c19248e0a4d339deff5b31bc",
      "38e5155f3eae40949a174790a66894bd",
      "445fe1da95dd41f3a816417491996a1b",
      "50862b2aaf2040fab6ee9d74467bbb43",
      "c8d0c4ae2d974c7c88e4a1e9e38ce0b1",
      "99dc6f0d40014cec895ac4dfaf580250",
      "a1175dae669c44fd9d3991644c281639"
     ]
    },
    "id": "QqLrsmaPZPls",
    "outputId": "972cc88a-b701-49ac-cf9f-2ca3e77e31db"
   },
   "outputs": [
    {
     "name": "stdout",
     "output_type": "stream",
     "text": [
      "\u001b[?25l     \u001b[90m━━━━━━━━━━━━━━━━━━━━━━━━━━━━━━━━━━━━━━━━\u001b[0m \u001b[32m0.0/173.3 kB\u001b[0m \u001b[31m?\u001b[0m eta \u001b[36m-:--:--\u001b[0m\r",
      "\u001b[2K     \u001b[91m━━━━━━━━━━━━━━━━━━━━━━━━━━━━━━━━━━━\u001b[0m\u001b[91m╸\u001b[0m\u001b[90m━━\u001b[0m \u001b[32m163.8/173.3 kB\u001b[0m \u001b[31m31.9 MB/s\u001b[0m eta \u001b[36m0:00:01\u001b[0m\r",
      "\u001b[2K     \u001b[90m━━━━━━━━━━━━━━━━━━━━━━━━━━━━━━━━━━━━━━━\u001b[0m \u001b[32m173.3/173.3 kB\u001b[0m \u001b[31m2.5 MB/s\u001b[0m eta \u001b[36m0:00:00\u001b[0m\n",
      "\u001b[?25h  Preparing metadata (setup.py) ... \u001b[?25l\u001b[?25hdone\n",
      "\u001b[2K   \u001b[90m━━━━━━━━━━━━━━━━━━━━━━━━━━━━━━━━━━━━━━━━\u001b[0m \u001b[32m116.1/116.1 kB\u001b[0m \u001b[31m3.0 MB/s\u001b[0m eta \u001b[36m0:00:00\u001b[0m\n",
      "\u001b[2K   \u001b[90m━━━━━━━━━━━━━━━━━━━━━━━━━━━━━━━━━━━━━━━━\u001b[0m \u001b[32m66.3/66.3 kB\u001b[0m \u001b[31m2.3 MB/s\u001b[0m eta \u001b[36m0:00:00\u001b[0m\n",
      "\u001b[2K   \u001b[90m━━━━━━━━━━━━━━━━━━━━━━━━━━━━━━━━━━━━━━━━\u001b[0m \u001b[32m194.4/194.4 kB\u001b[0m \u001b[31m7.0 MB/s\u001b[0m eta \u001b[36m0:00:00\u001b[0m\n",
      "\u001b[2K   \u001b[90m━━━━━━━━━━━━━━━━━━━━━━━━━━━━━━━━━━━━━━━━\u001b[0m \u001b[32m2.4/2.4 MB\u001b[0m \u001b[31m27.4 MB/s\u001b[0m eta \u001b[36m0:00:00\u001b[0m\n",
      "\u001b[2K   \u001b[90m━━━━━━━━━━━━━━━━━━━━━━━━━━━━━━━━━━━━━━━━\u001b[0m \u001b[32m57.6/57.6 kB\u001b[0m \u001b[31m2.1 MB/s\u001b[0m eta \u001b[36m0:00:00\u001b[0m\n",
      "\u001b[2K   \u001b[90m━━━━━━━━━━━━━━━━━━━━━━━━━━━━━━━━━━━━━━━━\u001b[0m \u001b[32m3.1/3.1 MB\u001b[0m \u001b[31m37.5 MB/s\u001b[0m eta \u001b[36m0:00:00\u001b[0m\n",
      "\u001b[2K   \u001b[90m━━━━━━━━━━━━━━━━━━━━━━━━━━━━━━━━━━━━━━━━\u001b[0m \u001b[32m59.5/59.5 kB\u001b[0m \u001b[31m3.1 MB/s\u001b[0m eta \u001b[36m0:00:00\u001b[0m\n",
      "\u001b[2K   \u001b[90m━━━━━━━━━━━━━━━━━━━━━━━━━━━━━━━━━━━━━━━━\u001b[0m \u001b[32m169.9/169.9 kB\u001b[0m \u001b[31m6.4 MB/s\u001b[0m eta \u001b[36m0:00:00\u001b[0m\n",
      "\u001b[2K   \u001b[90m━━━━━━━━━━━━━━━━━━━━━━━━━━━━━━━━━━━━━━━━\u001b[0m \u001b[32m3.2/3.2 MB\u001b[0m \u001b[31m50.5 MB/s\u001b[0m eta \u001b[36m0:00:00\u001b[0m\n",
      "\u001b[2K   \u001b[90m━━━━━━━━━━━━━━━━━━━━━━━━━━━━━━━━━━━━━━━━\u001b[0m \u001b[32m93.5/93.5 kB\u001b[0m \u001b[31m5.7 MB/s\u001b[0m eta \u001b[36m0:00:00\u001b[0m\n",
      "\u001b[2K   \u001b[90m━━━━━━━━━━━━━━━━━━━━━━━━━━━━━━━━━━━━━━━━\u001b[0m \u001b[32m80.9/80.9 kB\u001b[0m \u001b[31m4.2 MB/s\u001b[0m eta \u001b[36m0:00:00\u001b[0m\n",
      "\u001b[2K   \u001b[90m━━━━━━━━━━━━━━━━━━━━━━━━━━━━━━━━━━━━━━━━\u001b[0m \u001b[32m1.6/1.6 MB\u001b[0m \u001b[31m34.0 MB/s\u001b[0m eta \u001b[36m0:00:00\u001b[0m\n",
      "\u001b[2K   \u001b[90m━━━━━━━━━━━━━━━━━━━━━━━━━━━━━━━━━━━━━━━━\u001b[0m \u001b[32m268.9/268.9 kB\u001b[0m \u001b[31m13.0 MB/s\u001b[0m eta \u001b[36m0:00:00\u001b[0m\n",
      "\u001b[2K   \u001b[90m━━━━━━━━━━━━━━━━━━━━━━━━━━━━━━━━━━━━━━━━\u001b[0m \u001b[32m67.0/67.0 kB\u001b[0m \u001b[31m3.7 MB/s\u001b[0m eta \u001b[36m0:00:00\u001b[0m\n",
      "\u001b[2K   \u001b[90m━━━━━━━━━━━━━━━━━━━━━━━━━━━━━━━━━━━━━━━━\u001b[0m \u001b[32m235.8/235.8 kB\u001b[0m \u001b[31m11.5 MB/s\u001b[0m eta \u001b[36m0:00:00\u001b[0m\n",
      "\u001b[?25h  Building wheel for jaconv (setup.py) ... \u001b[?25l\u001b[?25hdone\n",
      "\u001b[31mERROR: pip's dependency resolver does not currently take into account all the packages that are installed. This behaviour is the source of the following dependency conflicts.\n",
      "google-genai 1.13.0 requires anyio<5.0.0,>=4.8.0, but you have anyio 3.7.1 which is incompatible.\u001b[0m\u001b[31m\n",
      "\u001b[0mMounted at /content/drive\n"
     ]
    },
    {
     "data": {
      "application/vnd.jupyter.widget-view+json": {
       "model_id": "703e56855c1347c2a8c55276456fba49",
       "version_major": 2,
       "version_minor": 0
      },
      "text/plain": [
       "Text(value='Please input your Spotify link here...', description='Spotify URL:', layout=Layout(width='100%'), …"
      ]
     },
     "metadata": {},
     "output_type": "display_data"
    },
    {
     "data": {
      "application/vnd.jupyter.widget-view+json": {
       "model_id": "66a05e68620844f4b6e99abb2a595984",
       "version_major": 2,
       "version_minor": 0
      },
      "text/plain": [
       "Checkbox(value=False, description='Upload to Google Drive')"
      ]
     },
     "metadata": {},
     "output_type": "display_data"
    },
    {
     "data": {
      "application/vnd.jupyter.widget-view+json": {
       "model_id": "b138dbf257364845a630501368680ed5",
       "version_major": 2,
       "version_minor": 0
      },
      "text/plain": [
       "Checkbox(value=True, description='Download ZIP to local device')"
      ]
     },
     "metadata": {},
     "output_type": "display_data"
    },
    {
     "data": {
      "application/vnd.jupyter.widget-view+json": {
       "model_id": "445fe1da95dd41f3a816417491996a1b",
       "version_major": 2,
       "version_minor": 0
      },
      "text/plain": [
       "Button(button_style='success', description='Download & ZIP', style=ButtonStyle())"
      ]
     },
     "metadata": {},
     "output_type": "display_data"
    },
    {
     "data": {
      "application/vnd.jupyter.widget-view+json": {
       "model_id": "99dc6f0d40014cec895ac4dfaf580250",
       "version_major": 2,
       "version_minor": 0
      },
      "text/plain": [
       "Output()"
      ]
     },
     "metadata": {},
     "output_type": "display_data"
    }
   ],
   "source": [
    "# Install required packages\n",
    "!pip install -q spotdl ipywidgets\n",
    "\n",
    "import os\n",
    "import shutil\n",
    "import datetime\n",
    "import ipywidgets as widgets\n",
    "from IPython.display import display\n",
    "from google.colab import files, drive\n",
    "from subprocess import run, CalledProcessError\n",
    "\n",
    "# Mount Google Drive\n",
    "drive.mount('/content/drive')\n",
    "\n",
    "# UI Elements\n",
    "url_input = widgets.Text(\n",
    "    value='Please input your Spotify link here...',\n",
    "    placeholder='e.g. https://open.spotify.com/track/3n3Ppam7vgaVa1iaRUc9Lp',\n",
    "    description='Spotify URL:',\n",
    "    layout=widgets.Layout(width='100%')\n",
    ")\n",
    "\n",
    "upload_checkbox = widgets.Checkbox(\n",
    "    value=False,\n",
    "    description='Upload to Google Drive'\n",
    ")\n",
    "\n",
    "download_checkbox = widgets.Checkbox(\n",
    "    value=True,\n",
    "    description='Download ZIP to local device'\n",
    ")\n",
    "\n",
    "download_button = widgets.Button(\n",
    "    description='Download & ZIP',\n",
    "    button_style='success'\n",
    ")\n",
    "\n",
    "output = widgets.Output()\n",
    "\n",
    "def download_music(b):\n",
    "    with output:\n",
    "        output.clear_output()\n",
    "        print(\"🎵 Starting download...\")\n",
    "\n",
    "        # Prepare directories\n",
    "        music_dir = \"/content/music\"\n",
    "        shutil.rmtree(music_dir, ignore_errors=True)\n",
    "        os.makedirs(music_dir, exist_ok=True)\n",
    "        os.chdir(music_dir)\n",
    "\n",
    "        try:\n",
    "            result = run([\"spotdl\", url_input.value], check=True)\n",
    "            print(\"✅ Download complete.\")\n",
    "\n",
    "            # Create timestamped ZIP filename\n",
    "            timestamp = datetime.datetime.now().strftime(\"%Y%m%d_%H%M%S\")\n",
    "            zip_name = f\"music_{timestamp}.zip\"\n",
    "            zip_path = f\"/content/{zip_name}\"\n",
    "\n",
    "            # Zip the music folder\n",
    "            os.chdir(\"/content\")\n",
    "            shutil.make_archive(\"music\", \"zip\", music_dir)\n",
    "            os.rename(\"/content/music.zip\", zip_path)\n",
    "            print(f\"📦 Music zipped successfully → {zip_name}\")\n",
    "\n",
    "            # Upload to Google Drive\n",
    "            if upload_checkbox.value:\n",
    "                drive_path = \"/content/drive/MyDrive/spotdl_downloads\"\n",
    "                os.makedirs(drive_path, exist_ok=True)\n",
    "                shutil.copy(zip_path, drive_path)\n",
    "                print(f\"☁️ Uploaded to Google Drive → {drive_path}/{zip_name}\")\n",
    "\n",
    "            # Download to local device\n",
    "            if download_checkbox.value:\n",
    "                print(\"⬇️ Preparing file download...\")\n",
    "                files.download(zip_path)\n",
    "\n",
    "            print(\"✅ All done! Enjoy your music 🎶\")\n",
    "\n",
    "        except CalledProcessError:\n",
    "            print(\"❌ Error during download. Please check the Spotify URL and try again.\")\n",
    "\n",
    "# Bind button\n",
    "download_button.on_click(download_music)\n",
    "\n",
    "# Display interface\n",
    "display(url_input, upload_checkbox, download_checkbox, download_button, output)\n"
   ]
  }
 ],
 "metadata": {
  "colab": {
   "provenance": []
  },
  "kernelspec": {
   "display_name": "Python 3",
   "name": "python3"
  },
  "language_info": {
   "name": "python"
  }
 },
 "nbformat": 4,
 "nbformat_minor": 0
}
